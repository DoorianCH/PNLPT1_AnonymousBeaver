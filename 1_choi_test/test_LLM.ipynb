{
 "cells": [
  {
   "cell_type": "code",
   "execution_count": 1,
   "metadata": {},
   "outputs": [
    {
     "name": "stdout",
     "output_type": "stream",
     "text": [
      "Here are the news articles extracted from the provided text:\n",
      "\n",
      "1. **\"美, 한국산 HBM·반도체장비 對中 수출통제…일본산 장비는 예외\"**\n",
      "   - Description: The United States is implementing export controls on South Korean HBM and semiconductor equipment to China, but Japanese equipment is exempted.\n",
      "\n",
      "2. **\"11월 소비자물가 1.5% 상승…유가 하락에 석달째 1%대, 채소값↑\"**\n",
      "   - Description: Consumer prices increased by 1.5% in November. Despite a decline in oil prices, the figures remain in the 1% range for the third consecutive month, with vegetable prices on the rise.\n"
     ]
    }
   ],
   "source": [
    "from openai import OpenAI\n",
    "from selenium import webdriver\n",
    "from selenium.webdriver.chrome.service import Service\n",
    "from selenium.webdriver.common.by import By\n",
    "from selenium.webdriver.chrome.options import Options\n",
    "from bs4 import BeautifulSoup\n",
    "import time\n",
    "\n",
    "# OpenAI API 키 설정\n",
    "\n",
    "client = OpenAI(\n",
    "    # This is the default and can be omitted\n",
    "    api_key='API 키 적기',\n",
    ")\n",
    "\n",
    "def setup_driver():\n",
    "    chrome_driver_path = 'chromedriver/chromedriver.exe'  # ChromeDriver 경로를 설정\n",
    "    chrome_options = Options()\n",
    "    chrome_options.add_argument(\"--no-sandbox\")\n",
    "    chrome_options.add_argument(\"--disable-dev-shm-usage\")\n",
    "    service = Service(chrome_driver_path)\n",
    "    driver = webdriver.Chrome(service=service, options=chrome_options)\n",
    "    return driver\n",
    "\n",
    "def crawl_dynamic_page(url):\n",
    "    driver = setup_driver()\n",
    "    driver.get(url)\n",
    "    time.sleep(3)\n",
    "    page_source = driver.page_source\n",
    "    driver.quit()\n",
    "    return page_source\n",
    "\n",
    "def extract_text_from_html(html):\n",
    "    soup = BeautifulSoup(html, 'html.parser')\n",
    "    text = soup.get_text(separator=' ', strip=True)\n",
    "    return text\n",
    "\n",
    "def extract_news_articles(text):\n",
    "    prompt = f\"\"\"\n",
    "    The following is a text extracted from a website:\n",
    "\n",
    "    {text}\n",
    "\n",
    "    Please extract and list the news articles from the above text. The articles should include titles and brief descriptions if available.\n",
    "    \"\"\"\n",
    "\n",
    "    response =client.chat.completions.create(\n",
    "        model=\"gpt-4o\",\n",
    "        messages=[\n",
    "            {\"role\": \"system\", \"content\": \"You are a crawrling assistant.\"},\n",
    "            {\"role\": \"user\", \"content\": prompt}\n",
    "        ]\n",
    "    )            \n",
    "\n",
    "    return response.choices[0].message.content\n",
    "\n",
    "# 예제 URL 설정\n",
    "url = 'https://www.naver.com'\n",
    "\n",
    "# 크롤링 실행\n",
    "page_source = crawl_dynamic_page(url)\n",
    "\n",
    "# 텍스트 추출\n",
    "extracted_text = extract_text_from_html(page_source)\n",
    "\n",
    "# 뉴스 기사 추출\n",
    "news_articles = extract_news_articles(extracted_text)\n",
    "\n",
    "print(news_articles)\n"
   ]
  },
  {
   "cell_type": "code",
   "execution_count": null,
   "metadata": {},
   "outputs": [],
   "source": []
  }
 ],
 "metadata": {
  "kernelspec": {
   "display_name": "Python 3",
   "language": "python",
   "name": "python3"
  },
  "language_info": {
   "codemirror_mode": {
    "name": "ipython",
    "version": 3
   },
   "file_extension": ".py",
   "mimetype": "text/x-python",
   "name": "python",
   "nbconvert_exporter": "python",
   "pygments_lexer": "ipython3",
   "version": "3.11.9"
  }
 },
 "nbformat": 4,
 "nbformat_minor": 2
}
