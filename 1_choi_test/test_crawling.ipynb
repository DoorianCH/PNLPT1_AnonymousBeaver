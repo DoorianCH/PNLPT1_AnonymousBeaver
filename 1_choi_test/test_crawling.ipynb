{
 "cells": [
  {
   "cell_type": "code",
   "execution_count": 5,
   "metadata": {},
   "outputs": [
    {
     "name": "stdout",
     "output_type": "stream",
     "text": [
      "Collecting BeautifulSoup\n",
      "  Downloading BeautifulSoup-3.2.2.tar.gz (32 kB)\n",
      "  Installing build dependencies: started\n",
      "  Installing build dependencies: finished with status 'done'\n",
      "  Getting requirements to build wheel: started\n",
      "  Getting requirements to build wheel: finished with status 'error'\n"
     ]
    },
    {
     "name": "stderr",
     "output_type": "stream",
     "text": [
      "Error processing line 7 of C:\\Users\\sodai\\AppData\\Roaming\\Python\\Python311\\site-packages\\pywin32.pth:\n",
      "\n",
      "  Traceback (most recent call last):\n",
      "    File \"<frozen site>\", line 186, in addpackage\n",
      "    File \"<string>\", line 1, in <module>\n",
      "  ModuleNotFoundError: No module named 'pywin32_bootstrap'\n",
      "\n",
      "Remainder of file ignored\n",
      "  error: subprocess-exited-with-error\n",
      "  \n",
      "  × Getting requirements to build wheel did not run successfully.\n",
      "  │ exit code: 1\n",
      "  ╰─> [22 lines of output]\n",
      "      Traceback (most recent call last):\n",
      "        File \"C:\\Users\\sodai\\AppData\\Local\\Programs\\Python\\Python311\\Lib\\site-packages\\pip\\_vendor\\pyproject_hooks\\_in_process\\_in_process.py\", line 353, in <module>\n",
      "          main()\n",
      "        File \"C:\\Users\\sodai\\AppData\\Local\\Programs\\Python\\Python311\\Lib\\site-packages\\pip\\_vendor\\pyproject_hooks\\_in_process\\_in_process.py\", line 335, in main\n",
      "          json_out['return_val'] = hook(**hook_input['kwargs'])\n",
      "                                   ^^^^^^^^^^^^^^^^^^^^^^^^^^^^\n",
      "        File \"C:\\Users\\sodai\\AppData\\Local\\Programs\\Python\\Python311\\Lib\\site-packages\\pip\\_vendor\\pyproject_hooks\\_in_process\\_in_process.py\", line 118, in get_requires_for_build_wheel\n",
      "          return hook(config_settings)\n",
      "                 ^^^^^^^^^^^^^^^^^^^^^\n",
      "        File \"C:\\Users\\sodai\\AppData\\Local\\Temp\\pip-build-env-hzedgwsb\\overlay\\Lib\\site-packages\\setuptools\\build_meta.py\", line 327, in get_requires_for_build_wheel\n",
      "          return self._get_build_requires(config_settings, requirements=[])\n",
      "                 ^^^^^^^^^^^^^^^^^^^^^^^^^^^^^^^^^^^^^^^^^^^^^^^^^^^^^^^^^^\n",
      "        File \"C:\\Users\\sodai\\AppData\\Local\\Temp\\pip-build-env-hzedgwsb\\overlay\\Lib\\site-packages\\setuptools\\build_meta.py\", line 297, in _get_build_requires\n",
      "          self.run_setup()\n",
      "        File \"C:\\Users\\sodai\\AppData\\Local\\Temp\\pip-build-env-hzedgwsb\\overlay\\Lib\\site-packages\\setuptools\\build_meta.py\", line 497, in run_setup\n",
      "          super().run_setup(setup_script=setup_script)\n",
      "        File \"C:\\Users\\sodai\\AppData\\Local\\Temp\\pip-build-env-hzedgwsb\\overlay\\Lib\\site-packages\\setuptools\\build_meta.py\", line 313, in run_setup\n",
      "          exec(code, locals())\n",
      "        File \"<string>\", line 3\n",
      "          \"You're trying to run a very old release of Beautiful Soup under Python 3. This will not work.\"<>\"Please use Beautiful Soup 4, available through the pip package 'beautifulsoup4'.\"\n",
      "                                                                                                         ^^\n",
      "      SyntaxError: invalid syntax\n",
      "      [end of output]\n",
      "  \n",
      "  note: This error originates from a subprocess, and is likely not a problem with pip.\n",
      "error: subprocess-exited-with-error\n",
      "\n",
      "× Getting requirements to build wheel did not run successfully.\n",
      "│ exit code: 1\n",
      "╰─> See above for output.\n",
      "\n",
      "note: This error originates from a subprocess, and is likely not a problem with pip.\n"
     ]
    }
   ],
   "source": [
    "#! pip install selenium\n",
    "#! pip install BeautifulSoup"
   ]
  },
  {
   "cell_type": "code",
   "execution_count": 1,
   "metadata": {},
   "outputs": [
    {
     "name": "stdout",
     "output_type": "stream",
     "text": [
      "NAVER 상단영역 바로가기 서비스 메뉴 바로가기 새소식 블록 바로가기 쇼핑 블록 바로가기 관심사 블록 바로가기 MY 영역 바로가기 위젯 보드 바로가기 보기 설정 바로가기 NAVER 검색 검색 입력도구 자동완성/최근검색어펼치기 최근검색어 전체삭제 검색어 저장 기능이 꺼져 있습니다. 설정이 초기화 된다면 도움말 을 확인해 주세요. 최근 검색어 내역이 없습니다. 설정이 초기화 된다면 도움말 을 확인해 주세요. 자동저장 끄기 도움말 닫기 CUE 대화하듯 질문해 보세요 이 정보가 표시된 이유 검색어와 포함된 키워드를 기반으로 AI 기술을 활용하여 연관된 추천 질문을 제공합니다. 레이어 닫기 이전 다음 자세히보기 관심사를 반영한 컨텍스트 자동완성 도움말 컨텍스트 자동완성 컨텍스트 자동완성 ON/OFF 설정은 해당기기(브라우저)에 저장됩니다. 자세히 보기 동일한 시간대・연령대・남녀별 사용자 그룹의 관심사에 맞춰 자동완성을 제공합니다. 자세히 보기 네이버 로그인 컨텍스트 자동완성 레이어 닫기 자동완성 끄기 도움말 신고 닫기 메일 카페 블로그 스토어 뉴스 증권 부동산 지도 웹툰 치지직 추천 바로가기 펼침 braun AD 확장 영역 페이 바로가기 톡 알림 장바구니 알림 뉴스스탠드 언론사편집 엔터 스포츠 경제 쇼핑투데이 전체언론사 연합뉴스 美, 한국산 HBM·반도체장비 對中 수출통제…일본산 장비는 예외 11월 소비자물가 1.5% 상승…유가 하락에 석달째 1%대, 채소값↑ 뉴스스탠드 뉴스홈 리스트형 썸네일형 이전 페이지 언론사 더보기 1 페이지 전체 /4 다음 페이지 추천 ・ 구독 자동차 웹툰 패션뷰티 푸드 리빙 책방 지식+ 건강 게임 비트코인 창시자 사토시 나카모토의 숨길 수 없는 1% 동양북스 500년 전 그림에서도 보인다는 'SNS 허세'의 진짜 의미 유노북스 한국인이 자주 쓰는 '무시무시한 단어' 책식주의 \"반박 시, 네 말 틀림...\" 아이폰16 프로 Pro 샀더니 이런 댓글이 미유 AI가 2D 사진을 3D 그래픽으로…'AI 대모' 페이페이 리의 월드랩스, AI 기술 첫 공개 AI포스트(AIPOST) 재생시간 00:33 맨투맨 \"V\" 왜 있는걸까? 코코보라 [사이언스] 도넛 모양 블랙홀 사진은 틀렸다? 비즈한국 1억 8천만 년 전 어룡의 '실제 모습'이 밝혀졌다?! 탐사튜브 삼성, 예기치 못한 '갤럭시 S24' 보안 업데이트 추가 배포...무슨 일? 이포커스 재생시간 01:01 불안한 5060이 인스타를 안하면 손해인 이유 유어셀린 YourCeline '귀신의 집' 공포 체험이 염증 수치 낮춘다? 데일리포스트 마음까지 채우는 클릭 해피빈 전체보기 펀딩 용기와 에너지를 전하는 소방히어로 캘린더 베스티안재단 527% 달성 기부 성큼 다가온 겨울, 몸도 마음도 시려오는 아이들 기아대책 4% 달성 기부 6.25 전쟁에 나간 16살의 어린 학도병 따뜻한동행 22% 달성 펀딩 우유 없이 만든 100% 식물성 요거트 덕다헌 147% 달성 펼쳐보기 네이버를 더 안전하고 편리하게 이용하세요 NAVER 로그인 아이디 찾기 비밀번호 찾기 회원가입 날씨 예보 비교 목포시 용당동 6° 흐림 최저기온 3° 최고기온 8° 미세 좋음 초미세 좋음 9시 구름많음 5° 11 구름많음 6° 13 구름많음 6° 15 구름많음 6° 17 구름많음 5° 증시 정보 더보기 로그인 시 관심 종목의 주가를 확인할 수 있습니다. 로그아웃 시 인기 검색 종목이 제공됩니다. 닫기 12.03. 09:07 새로고침 코스피 2,481.21 상승 26.73 +1.09% 코스닥 683.35 상승 7.51 +1.11% 삼성전자 변동없음 0.00% 53,600 SK하이닉스 상승 1.45% 161,100 신성델타테크 상승 5.14% 77,700 인기종목 더보기 위젯 보드 캘린더 12.3 화 로그인하기 캘린더 일 월 화 수 목 금 토 1 2 3 4 5 6 7 8 9 10 11 12 13 14 15 16 17 18 19 20 21 22 23 24 25 26 27 28 29 30 31 1 2 3 4 VIBE 위기에서 기회로 다른 추천 보기 지리산에서 세계로, 나만의 씨앗을 틔우는 법 | 김미선 지리산피아골식품 영농조합법인 대표 재생 인생은 꼬여야 풀린다 | 장동선 뇌과학자, 한양대 교수 재생 말기 혈액암을 이기고 건강한 삶을 사는 비결 | 박주현 자원봉사 활동가 재생 영어사전 Is it worth it? 그럴 가치가 있을까? 단어 검색하기 papago 번역하기 메모 로그인하기 다음 페이지 모바일 네이버 메인 열기 1등 상금 1천만원 클파원 갓 어워즈 : 핫플\u001c리뷰의 신 네이버에서 넷플릭스를 지금 멤버십 시작하기 최상단으로 이동 홈 설정 모바일 버전으로 보기 공지사항 네이버 ‘개인정보 처리방침’ 변경에 대한 안내 말씀드립니다. 서비스 전체보기 Partners 프로젝트 꽃 네이버 비즈니스 네이버 비즈니스 스쿨 네이버 광고 스토어 개설 지역업체 등록 엑스퍼트 등록 Developers 네이버 개발자 센터 오픈 API 오픈소스 네이버 D2 네이버 D2SF 네이버 랩스 웨일 브라우저 이용안내 기업 사이트 바로가기 네이버 정책 및 약관 회사소개 인재채용 제휴제안 이용약관 개인정보처리방침 청소년보호정책 네이버 정책 고객센터 ⓒ NAVER Corp.\n"
     ]
    }
   ],
   "source": [
    "from selenium import webdriver\n",
    "from selenium.webdriver.chrome.service import Service\n",
    "from selenium.webdriver.common.by import By\n",
    "from selenium.webdriver.chrome.options import Options\n",
    "from bs4 import BeautifulSoup\n",
    "\n",
    "import time\n",
    "\n",
    "def setup_driver():\n",
    "    # ChromeDriver 경로 설정\n",
    "    chrome_driver_path = 'chromedriver/chromedriver.exe'  # ChromeDriver 경로를 설정\n",
    "    \n",
    "    # Chrome 옵션 설정\n",
    "    chrome_options = Options()\n",
    "    # chrome_options.add_argument(\"--headless\")  # 브라우저 창을 띄우지 않음\n",
    "    chrome_options.add_argument(\"--no-sandbox\")\n",
    "    chrome_options.add_argument(\"--disable-dev-shm-usage\")\n",
    "\n",
    "    # 드라이버 설정\n",
    "    service = Service(chrome_driver_path)\n",
    "    driver = webdriver.Chrome(service=service, options=chrome_options)\n",
    "    return driver\n",
    "\n",
    "def crawl_dynamic_page(url):\n",
    "    # 드라이버 설정\n",
    "    driver = setup_driver()\n",
    "    \n",
    "    # URL 열기\n",
    "    driver.get(url)\n",
    "    \n",
    "    # 페이지 로드 대기 (필요시 조정)\n",
    "    time.sleep(3)\n",
    "    \n",
    "    # 페이지 소스 가져오기\n",
    "    page_source = driver.page_source\n",
    "    \n",
    "    # 드라이버 종료\n",
    "    driver.quit()\n",
    "    \n",
    "    return page_source\n",
    "\n",
    "def extract_text_from_html(html):\n",
    "    # BeautifulSoup으로 HTML 파싱\n",
    "    soup = BeautifulSoup(html, 'html.parser')\n",
    "    \n",
    "    # 모든 텍스트 추출\n",
    "    text = soup.get_text(separator=' ', strip=True)\n",
    "    return text\n",
    "\n",
    "# 예제 URL 설정\n",
    "url = 'https://www.naver.com'\n",
    "\n",
    "# 크롤링 실행\n",
    "page_source = crawl_dynamic_page(url)\n",
    "\n",
    "# 텍스트 추출\n",
    "extracted_text = extract_text_from_html(page_source)\n",
    "print(extracted_text)"
   ]
  },
  {
   "cell_type": "code",
   "execution_count": null,
   "metadata": {},
   "outputs": [],
   "source": []
  }
 ],
 "metadata": {
  "kernelspec": {
   "display_name": "Python 3",
   "language": "python",
   "name": "python3"
  },
  "language_info": {
   "codemirror_mode": {
    "name": "ipython",
    "version": 3
   },
   "file_extension": ".py",
   "mimetype": "text/x-python",
   "name": "python",
   "nbconvert_exporter": "python",
   "pygments_lexer": "ipython3",
   "version": "3.11.9"
  }
 },
 "nbformat": 4,
 "nbformat_minor": 2
}
